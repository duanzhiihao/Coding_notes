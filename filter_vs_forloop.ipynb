{
 "cells": [
  {
   "cell_type": "code",
   "execution_count": 1,
   "metadata": {},
   "outputs": [],
   "source": [
    "from time import time\n",
    "import numpy as np\n",
    "np.random.rand()"
   ]
  },
  {
   "cell_type": "code",
   "execution_count": 2,
   "metadata": {},
   "outputs": [],
   "source": [
    "l = [np.random.rand() for _ in range(int(1e6))]"
   ]
  },
  {
   "cell_type": "markdown",
   "metadata": {},
   "source": [
    "# filter() vs. for loop"
   ]
  },
  {
   "cell_type": "code",
   "execution_count": 3,
   "metadata": {},
   "outputs": [
    {
     "name": "stdout",
     "output_type": "stream",
     "text": [
      "Elapsed time of for_loop: 0.128s\n",
      "Elapsed time of filter(): 0.0s\n",
      "Elapsed time of for_loop: 0.125s\n",
      "Elapsed time of filter(): 0.0s\n"
     ]
    }
   ],
   "source": [
    "def func(x):\n",
    "    xx = x**2\n",
    "    xx = xx + x\n",
    "    return xx > 0.5\n",
    "\n",
    "def run_time(name):\n",
    "    tic = time()\n",
    "    if name == 'for_loop':\n",
    "        _ = [x for x in l if func(x)]\n",
    "    elif name == 'filter()':\n",
    "        _ = filter(func, l)\n",
    "    else: raise NotImplementedError()\n",
    "    elapsed = round(time() - tic, 3)\n",
    "    print(f'Elapsed time of {name}: {elapsed}s')\n",
    "\n",
    "run_time('for_loop')\n",
    "run_time('filter()')\n",
    "run_time('for_loop')\n",
    "run_time('filter()')"
   ]
  },
  {
   "cell_type": "markdown",
   "metadata": {},
   "source": [
    "# map() vs for loop"
   ]
  },
  {
   "cell_type": "code",
   "execution_count": 4,
   "metadata": {},
   "outputs": [
    {
     "name": "stdout",
     "output_type": "stream",
     "text": [
      "Elapsed time of for_loop: 0.128s\n",
      "Elapsed time of map(): 0.0s\n",
      "Elapsed time of for_loop: 0.117s\n",
      "Elapsed time of map(): 0.0s\n"
     ]
    }
   ],
   "source": [
    "def func(x):\n",
    "    xx = x**2\n",
    "    xx = xx + x\n",
    "    return xx > 0.5\n",
    "\n",
    "def run_time(name):\n",
    "    tic = time()\n",
    "    if name == 'for_loop':\n",
    "        _ = [func(x) for x in l]\n",
    "    elif name == 'map()':\n",
    "        _ = map(func, l)\n",
    "    else: raise NotImplementedError()\n",
    "    elapsed = round(time() - tic, 3)\n",
    "    print(f'Elapsed time of {name}: {elapsed}s')\n",
    "\n",
    "run_time('for_loop')\n",
    "run_time('map()')\n",
    "run_time('for_loop')\n",
    "run_time('map()')"
   ]
  }
 ],
 "metadata": {
  "kernelspec": {
   "display_name": "Python 3",
   "language": "python",
   "name": "python3"
  },
  "language_info": {
   "codemirror_mode": {
    "name": "ipython",
    "version": 3
   },
   "file_extension": ".py",
   "mimetype": "text/x-python",
   "name": "python",
   "nbconvert_exporter": "python",
   "pygments_lexer": "ipython3",
   "version": "3.7.7"
  }
 },
 "nbformat": 4,
 "nbformat_minor": 4
}
